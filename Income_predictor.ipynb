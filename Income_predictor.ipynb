{
 "cells": [
  {
   "cell_type": "code",
   "execution_count": 3,
   "metadata": {},
   "outputs": [],
   "source": [
    "def class_to_income(income_class):\n",
    "    if income_class == 1:\n",
    "        return (0, 10000)\n",
    "    elif income_class == 2:\n",
    "        return (10000, 100000)\n",
    "    elif income_class == 2:\n",
    "        return (100000, 1000000)\n",
    "    elif income_class == 2:\n",
    "        return (1000000, 10000000)\n",
    "    elif income_class == 2:\n",
    "        return (10000000, 100000000)\n",
    "    elif income_class == 2:\n",
    "        return (10000000, 100000000)\n",
    "    else:\n",
    "        return (100000000)"
   ]
  },
  {
   "cell_type": "code",
   "execution_count": 4,
   "metadata": {},
   "outputs": [
    {
     "ename": "KeyboardInterrupt",
     "evalue": "Interrupted by user",
     "output_type": "error",
     "traceback": [
      "\u001b[0;31m---------------------------------------------------------------------------\u001b[0m",
      "\u001b[0;31mKeyboardInterrupt\u001b[0m                         Traceback (most recent call last)",
      "\u001b[0;32m<ipython-input-4-b026189ca566>\u001b[0m in \u001b[0;36m<module>\u001b[0;34m\u001b[0m\n\u001b[1;32m     11\u001b[0m        'Reality-TV', 'News'])\n\u001b[1;32m     12\u001b[0m \u001b[0;34m\u001b[0m\u001b[0m\n\u001b[0;32m---> 13\u001b[0;31m \u001b[0myear\u001b[0m \u001b[0;34m=\u001b[0m \u001b[0mint\u001b[0m\u001b[0;34m(\u001b[0m\u001b[0minput\u001b[0m\u001b[0;34m(\u001b[0m\u001b[0;34m'Insert year between 1920 and 2020: '\u001b[0m\u001b[0;34m)\u001b[0m\u001b[0;34m)\u001b[0m\u001b[0;34m\u001b[0m\u001b[0;34m\u001b[0m\u001b[0m\n\u001b[0m\u001b[1;32m     14\u001b[0m \u001b[0mduration\u001b[0m \u001b[0;34m=\u001b[0m \u001b[0mint\u001b[0m\u001b[0;34m(\u001b[0m\u001b[0minput\u001b[0m\u001b[0;34m(\u001b[0m\u001b[0;34m'Insert duration in minutes: '\u001b[0m\u001b[0;34m)\u001b[0m\u001b[0;34m)\u001b[0m\u001b[0;34m\u001b[0m\u001b[0;34m\u001b[0m\u001b[0m\n\u001b[1;32m     15\u001b[0m \u001b[0mbudget\u001b[0m \u001b[0;34m=\u001b[0m \u001b[0mint\u001b[0m\u001b[0;34m(\u001b[0m\u001b[0minput\u001b[0m\u001b[0;34m(\u001b[0m\u001b[0;34m'Insert budget: '\u001b[0m\u001b[0;34m)\u001b[0m\u001b[0;34m)\u001b[0m\u001b[0;34m\u001b[0m\u001b[0;34m\u001b[0m\u001b[0m\n",
      "\u001b[0;32m/opt/miniconda3/lib/python3.8/site-packages/ipykernel/kernelbase.py\u001b[0m in \u001b[0;36mraw_input\u001b[0;34m(self, prompt)\u001b[0m\n\u001b[1;32m    858\u001b[0m                 \u001b[0;34m\"raw_input was called, but this frontend does not support input requests.\"\u001b[0m\u001b[0;34m\u001b[0m\u001b[0;34m\u001b[0m\u001b[0m\n\u001b[1;32m    859\u001b[0m             )\n\u001b[0;32m--> 860\u001b[0;31m         return self._input_request(str(prompt),\n\u001b[0m\u001b[1;32m    861\u001b[0m             \u001b[0mself\u001b[0m\u001b[0;34m.\u001b[0m\u001b[0m_parent_ident\u001b[0m\u001b[0;34m,\u001b[0m\u001b[0;34m\u001b[0m\u001b[0;34m\u001b[0m\u001b[0m\n\u001b[1;32m    862\u001b[0m             \u001b[0mself\u001b[0m\u001b[0;34m.\u001b[0m\u001b[0m_parent_header\u001b[0m\u001b[0;34m,\u001b[0m\u001b[0;34m\u001b[0m\u001b[0;34m\u001b[0m\u001b[0m\n",
      "\u001b[0;32m/opt/miniconda3/lib/python3.8/site-packages/ipykernel/kernelbase.py\u001b[0m in \u001b[0;36m_input_request\u001b[0;34m(self, prompt, ident, parent, password)\u001b[0m\n\u001b[1;32m    902\u001b[0m             \u001b[0;32mexcept\u001b[0m \u001b[0mKeyboardInterrupt\u001b[0m\u001b[0;34m:\u001b[0m\u001b[0;34m\u001b[0m\u001b[0;34m\u001b[0m\u001b[0m\n\u001b[1;32m    903\u001b[0m                 \u001b[0;31m# re-raise KeyboardInterrupt, to truncate traceback\u001b[0m\u001b[0;34m\u001b[0m\u001b[0;34m\u001b[0m\u001b[0;34m\u001b[0m\u001b[0m\n\u001b[0;32m--> 904\u001b[0;31m                 \u001b[0;32mraise\u001b[0m \u001b[0mKeyboardInterrupt\u001b[0m\u001b[0;34m(\u001b[0m\u001b[0;34m\"Interrupted by user\"\u001b[0m\u001b[0;34m)\u001b[0m \u001b[0;32mfrom\u001b[0m \u001b[0;32mNone\u001b[0m\u001b[0;34m\u001b[0m\u001b[0;34m\u001b[0m\u001b[0m\n\u001b[0m\u001b[1;32m    905\u001b[0m             \u001b[0;32mexcept\u001b[0m \u001b[0mException\u001b[0m \u001b[0;32mas\u001b[0m \u001b[0me\u001b[0m\u001b[0;34m:\u001b[0m\u001b[0;34m\u001b[0m\u001b[0;34m\u001b[0m\u001b[0m\n\u001b[1;32m    906\u001b[0m                 \u001b[0mself\u001b[0m\u001b[0;34m.\u001b[0m\u001b[0mlog\u001b[0m\u001b[0;34m.\u001b[0m\u001b[0mwarning\u001b[0m\u001b[0;34m(\u001b[0m\u001b[0;34m\"Invalid Message:\"\u001b[0m\u001b[0;34m,\u001b[0m \u001b[0mexc_info\u001b[0m\u001b[0;34m=\u001b[0m\u001b[0;32mTrue\u001b[0m\u001b[0;34m)\u001b[0m\u001b[0;34m\u001b[0m\u001b[0;34m\u001b[0m\u001b[0m\n",
      "\u001b[0;31mKeyboardInterrupt\u001b[0m: Interrupted by user"
     ]
    }
   ],
   "source": [
    "import pickle\n",
    "import pandas as pd\n",
    "\n",
    "with open('income_predictor.pickle', 'rb') as file:\n",
    "    model = pickle.load(file)\n",
    "\n",
    "df = pd.DataFrame(columns = ['year', 'duration', 'budget', 'Romance', 'Biography', 'Crime', 'Drama',\n",
    "       'History', 'Adventure', 'Fantasy', 'War', 'Mystery', 'Horror',\n",
    "       'Western', 'Comedy', 'Family', 'Action', 'Sci-Fi', 'Thriller', 'Sport',\n",
    "       'Animation', 'Musical', 'Music', 'Film-Noir', 'Adult', 'Documentary',\n",
    "       'Reality-TV', 'News'])\n",
    "\n",
    "year = int(input('Insert year between 1920 and 2020: '))\n",
    "duration = int(input('Insert duration in minutes: '))\n",
    "budget = int(input('Insert budget: '))\n",
    "print('\\nThese are the available genres:\\n\\\n",
    "        Romance, Biography, Crime, Drama, History,\\n\\\n",
    "        Adventure, Fantasy, War, Mystery, Horror,\\n\\\n",
    "        Western, Comedy, Family, Action, Sci-Fi,\\n\\\n",
    "        Thriller, Sport, Animation, Musical, Music,\\n\\\n",
    "        Film-Noir, Adult, Documentary, Reality-TV, News')\n",
    "genres = input('Insert genres (1 or more, separate with comma and space, for example: Crime, Drama): ')\n",
    "\n",
    "available_genres = ['Romance', 'Biography', 'Crime', 'Drama',\n",
    "       'History', 'Adventure', 'Fantasy', 'War', 'Mystery', 'Horror',\n",
    "       'Western', 'Comedy', 'Family', 'Action', 'Sci-Fi', 'Thriller', 'Sport',\n",
    "       'Animation', 'Musical', 'Music', 'Film-Noir', 'Adult', 'Documentary',\n",
    "       'Reality-TV', 'News']\n",
    "genres_list = genres.split(', ')\n",
    "\n",
    "df.at[0, 'year'] = year\n",
    "df.at[0, 'duration'] = duration\n",
    "df.at[0, 'budget'] = budget\n",
    "for genre in available_genres:\n",
    "    if genre in genres_list:\n",
    "        df.at[0, genre] = 1\n",
    "    else:\n",
    "        df.at[0, genre] = 0\n",
    "\n",
    "prediction = round(model.predict(df)[0])\n",
    "income = class_to_income(prediction)\n",
    "print('This movie would earn: ', end = '')\n",
    "if len(income) == 1:\n",
    "    print('more than ' + str(income[0]), end = '')\n",
    "else:\n",
    "    print('between ' + str(income[0]) + ' and ' + str(income[1]), end = '')\n",
    "print(' USD.')"
   ]
  }
 ],
 "metadata": {
  "kernelspec": {
   "display_name": "Python 3",
   "language": "python",
   "name": "python3"
  },
  "language_info": {
   "codemirror_mode": {
    "name": "ipython",
    "version": 3
   },
   "file_extension": ".py",
   "mimetype": "text/x-python",
   "name": "python",
   "nbconvert_exporter": "python",
   "pygments_lexer": "ipython3",
   "version": "3.8.2"
  }
 },
 "nbformat": 4,
 "nbformat_minor": 4
}

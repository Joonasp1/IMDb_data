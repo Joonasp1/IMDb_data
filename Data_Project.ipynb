{
 "cells": [
  {
   "cell_type": "markdown",
   "metadata": {},
   "source": [
    "# Preliminary data visualization"
   ]
  },
  {
   "cell_type": "markdown",
   "metadata": {},
   "source": [
    "Reading the data from csv"
   ]
  },
  {
   "cell_type": "code",
   "execution_count": 1,
   "metadata": {},
   "outputs": [
    {
     "name": "stderr",
     "output_type": "stream",
     "text": [
      "C:\\Users\\kasutaja\\anaconda3\\lib\\site-packages\\IPython\\core\\interactiveshell.py:3071: DtypeWarning: Columns (3) have mixed types.Specify dtype option on import or set low_memory=False.\n",
      "  has_raised = await self.run_ast_nodes(code_ast.body, cell_name,\n"
     ]
    },
    {
     "data": {
      "text/plain": [
       "2017             3223\n",
       "2018             3182\n",
       "2016             2992\n",
       "2015             2764\n",
       "2014             2517\n",
       "                 ... \n",
       "1976                1\n",
       "1964                1\n",
       "TV Movie 2019       1\n",
       "1989                1\n",
       "1930                1\n",
       "Name: year, Length: 168, dtype: int64"
      ]
     },
     "execution_count": 1,
     "metadata": {},
     "output_type": "execute_result"
    }
   ],
   "source": [
    "import matplotlib.pyplot as plt\n",
    "import pandas as pd\n",
    "import numpy as np\n",
    "import seaborn as sns\n",
    "\n",
    "data = pd.read_csv(\"IMDb movies.csv\")\n",
    "\n",
    "#Source: https://www.in2013dollars.com/us/inflation/\n",
    "inflation = {1900:31.0 ,1901:30.63 , 1902:30.28 ,1903:29.59,1904:29.26 ,1905:29.59 ,1906:28.93 ,1907:27.70 , 1908:28.30 , 1909:28.61 ,\n",
    "            1910:27.41 ,1911:27.41 , 1912:26.84 ,1913:26.30 ,1914:26.30 ,1915:25.78 ,1916:23.89 ,1917:20.34 , 1918:17.24 , 1919:15.05 ,\n",
    "            1920:13.02 ,1921:14.55 , 1922:15.50 ,1923:15.23 ,1924:15.23 ,1925:14.88 ,1926:14.71 ,1927:14.96 , 1928:15.23 , 1929:15.23 ,\n",
    "            1930:15.59 ,1931:17.13 , 1932:19.01 ,1933:20.03 ,1934:19.43 ,1935:19.01 ,1936:18.73 ,1937:18.08 , 1938:18.47 , 1939:18.73 ,\n",
    "            1940:18.60 ,1941:17.71 , 1942:15.97 ,1943:15.05 ,1944:14.79 ,1945:14.47 ,1946:13.35 ,1947:11.68 , 1948:10.90 , 1949:10.94 ,\n",
    "            1950:10.80 ,1951:10.01 , 1952:9.83 ,1953:9.75 ,1954:9.68 ,1955:9.72 ,1956:9.57 ,1957:9.27 , 1958:9.01 , 1959:8.95 ,\n",
    "            1960:8.80 ,1961:8.71 , 1962:8.62 ,1963:8.51 ,1964:8.40 ,1965:8.27 ,1966:8.04 ,1967:7.80 , 1968:7.48 , 1969:7.10 ,\n",
    "            1970:6.71 ,1971:6.43 , 1972:6.23 ,1973:5.86 ,1974:5.28 ,1975:4.84 ,1976:4.58 ,1977:4.30 , 1978:3.99 , 1979:3.59 ,\n",
    "            1980:3.16 ,1981:2.86 , 1982:2.70 ,1983:2.61 ,1984:2.51 ,1985:2.42 ,1986:2.38 ,1987:2.29 , 1988:2.20 , 1989:2.10 ,\n",
    "            1990:1.99 ,1991:1.91 , 1992:1.86 ,1993:1.80 ,1994:1.76 ,1995:1.71 ,1996:1.66 ,1997:1.62 , 1998:1.60 , 1999:1.56 ,\n",
    "            2000:1.51 ,2001:1.47 , 2002:1.45 ,2003:1.42 ,2004:1.38 ,2005:1.33 ,2006:1.29 ,2007:1.26 , 2008:1.21 , 2009:1.21 ,\n",
    "            2010:1.19 ,2011:1.16 , 2012:1.13 ,2013:1.12 ,2014:1.10 ,2015:1.10 ,2016:1.08 ,2017:1.06 , 2018:1.04 , 2019:1.02, 2020:1 }\n",
    "data.year.value_counts()"
   ]
  },
  {
   "cell_type": "code",
   "execution_count": 2,
   "metadata": {},
   "outputs": [],
   "source": [
    "def inflation_adjust(df):\n",
    "    df = inflation_adjust_budget(df)\n",
    "    df = inflation_adjust_income(df)\n",
    "    return df\n",
    "def inflation_adjust_budget(df):\n",
    "    df = df.dropna(subset=['budget'])\n",
    "    df = df[df.budget.str.startswith(\"$\")]\n",
    "    df.budget = df.budget.str.slice(2).astype(int)\n",
    "    df.year = df.year.astype(int)\n",
    "    df[\"budget_adjusted\"] = df.apply(lambda row: row.budget * inflation[row.year], axis=1)\n",
    "    return df\n",
    "def inflation_adjust_income(df):\n",
    "    df = df.dropna(subset=['worlwide_gross_income'])\n",
    "    df = df[df.worlwide_gross_income.str.startswith(\"$\")]\n",
    "    df.worlwide_gross_income = df.worlwide_gross_income.str.slice(2).astype(float)\n",
    "    df.year = df.year.astype(int)\n",
    "    df[\"income_adjusted\"] = df.apply(lambda row: row.worlwide_gross_income * inflation[row.year], axis=1)\n",
    "    return df"
   ]
  },
  {
   "cell_type": "code",
   "execution_count": 3,
   "metadata": {},
   "outputs": [
    {
     "data": {
      "image/png": "[encoded data removed]",
      "text/plain": [
       "<Figure size 432x288 with 2 Axes>"
      ]
     },
     "metadata": {
      "needs_background": "light"
     },
     "output_type": "display_data"
    }
   ],
   "source": [
    "plt.subplots_adjust(hspace=0.5)\n",
    "\n",
    "data_budget = inflation_adjust(data)\n",
    "years = data_budget.year.unique().astype(int)\n",
    "maxbudget1 = []\n",
    "for year in years:  \n",
    "    maxbudget1.append(np.max(data_budget[data_budget.year == year].budget))\n",
    "plt.subplot(2,1,1)\n",
    "plt.bar(years, maxbudget1, width=1)\n",
    "plt.yticks(np.arange(0,max(maxbudget1)+1,max(maxbudget1)/5))\n",
    "plt.title(\"Most expensive movie per year\")\n",
    "\n",
    "\n",
    "maxbudget2 = []\n",
    "for year in years:  \n",
    "    maxbudget2.append(np.max(data_budget[data_budget.year == year].budget_adjusted))\n",
    "plt.subplot(2,1,2)\n",
    "plt.bar(years, maxbudget2, width=1)\n",
    "plt.yticks(np.arange(0,max(maxbudget2)+1,max(maxbudget1)/5))\n",
    "plt.title(\"Adjusted for inflation\")\n",
    "plt.show()"
   ]
  },
  {
   "cell_type": "code",
   "execution_count": 4,
   "metadata": {},
   "outputs": [
    {
     "data": {
      "text/html": [
       "<div>\n",
       "<style scoped>\n",
       "    .dataframe tbody tr th:only-of-type {\n",
       "        vertical-align: middle;\n",
       "    }\n",
       "\n",
       "    .dataframe tbody tr th {\n",
       "        vertical-align: top;\n",
       "    }\n",
       "\n",
       "    .dataframe thead th {\n",
       "        text-align: right;\n",
       "    }\n",
       "</style>\n",
       "<table border=\"1\" class=\"dataframe\">\n",
       "  <thead>\n",
       "    <tr style=\"text-align: right;\">\n",
       "      <th></th>\n",
       "      <th>imdb_title_id</th>\n",
       "      <th>title</th>\n",
       "      <th>original_title</th>\n",
       "      <th>year</th>\n",
       "      <th>date_published</th>\n",
       "      <th>genre</th>\n",
       "      <th>duration</th>\n",
       "      <th>country</th>\n",
       "      <th>language</th>\n",
       "      <th>director</th>\n",
       "      <th>...</th>\n",
       "      <th>avg_vote</th>\n",
       "      <th>votes</th>\n",
       "      <th>budget</th>\n",
       "      <th>usa_gross_income</th>\n",
       "      <th>worlwide_gross_income</th>\n",
       "      <th>metascore</th>\n",
       "      <th>reviews_from_users</th>\n",
       "      <th>reviews_from_critics</th>\n",
       "      <th>budget_adjusted</th>\n",
       "      <th>income_adjusted</th>\n",
       "    </tr>\n",
       "  </thead>\n",
       "  <tbody>\n",
       "    <tr>\n",
       "      <th>11413</th>\n",
       "      <td>tt0056937</td>\n",
       "      <td>Cleopatra</td>\n",
       "      <td>Cleopatra</td>\n",
       "      <td>1963</td>\n",
       "      <td>1964-01-30</td>\n",
       "      <td>Biography, Drama, History</td>\n",
       "      <td>192</td>\n",
       "      <td>Switzerland, UK, USA</td>\n",
       "      <td>English</td>\n",
       "      <td>Joseph L. Mankiewicz</td>\n",
       "      <td>...</td>\n",
       "      <td>7.0</td>\n",
       "      <td>28653</td>\n",
       "      <td>44000000</td>\n",
       "      <td>$ 57777778</td>\n",
       "      <td>57777778.0</td>\n",
       "      <td>60.0</td>\n",
       "      <td>227.0</td>\n",
       "      <td>87.0</td>\n",
       "      <td>374440000.0</td>\n",
       "      <td>4.916889e+08</td>\n",
       "    </tr>\n",
       "  </tbody>\n",
       "</table>\n",
       "<p>1 rows × 24 columns</p>\n",
       "</div>"
      ],
      "text/plain": [
       "      imdb_title_id      title original_title  year date_published  \\\n",
       "11413     tt0056937  Cleopatra      Cleopatra  1963     1964-01-30   \n",
       "\n",
       "                           genre  duration               country language  \\\n",
       "11413  Biography, Drama, History       192  Switzerland, UK, USA  English   \n",
       "\n",
       "                   director  ... avg_vote  votes    budget usa_gross_income  \\\n",
       "11413  Joseph L. Mankiewicz  ...      7.0  28653  44000000       $ 57777778   \n",
       "\n",
       "       worlwide_gross_income  metascore  reviews_from_users  \\\n",
       "11413             57777778.0       60.0               227.0   \n",
       "\n",
       "      reviews_from_critics  budget_adjusted  income_adjusted  \n",
       "11413                 87.0      374440000.0     4.916889e+08  \n",
       "\n",
       "[1 rows x 24 columns]"
      ]
     },
     "execution_count": 4,
     "metadata": {},
     "output_type": "execute_result"
    }
   ],
   "source": [
    "data_budget[data_budget.budget_adjusted == 374440000.0]"
   ]
  },
  {
   "cell_type": "code",
   "execution_count": 5,
   "metadata": {},
   "outputs": [],
   "source": [
    "data_genres = data.dropna(subset=['genre'])\n",
    "genres_unique = []\n",
    "for index, row in data_genres.iterrows():\n",
    "    genres = row.genre.split(\", \")\n",
    "    for genre in genres:\n",
    "        if genre not in genres_unique:\n",
    "            genres_unique.append(genre)"
   ]
  },
  {
   "cell_type": "code",
   "execution_count": 6,
   "metadata": {},
   "outputs": [],
   "source": [
    "def genre_binary(df):\n",
    "    df = df.dropna(subset=['genre'])\n",
    "    for genre_unique in genres_unique:\n",
    "        df[genre_unique] = 0\n",
    "\n",
    "    for index, row in df.iterrows():\n",
    "        genres = row.genre.split(\", \")\n",
    "        for genre in genres:\n",
    "            df.at[index, genre] = 1\n",
    "    return df\n",
    "\n",
    "data_genres = genre_binary(data)"
   ]
  },
  {
   "cell_type": "code",
   "execution_count": null,
   "metadata": {
    "scrolled": true
   },
   "outputs": [],
   "source": [
    "def genre_popularity(df, year):\n",
    "    popularity = {}\n",
    "    df_year = df[df.year == year]\n",
    "    for unique in genres_unique:\n",
    "        popularity[unique] = df_year[unique].sum(axis=0)\n",
    "    return popularity\n",
    "\n",
    "def genre_popularity_single(df, genre):\n",
    "    popularities = []\n",
    "    for year in years:\n",
    "        temp = genre_popularity(df, year)\n",
    "        popularities.append(temp[genre]/len(df[df.year == year].index))\n",
    "    return popularities\n",
    "\n",
    "def plot_genre_popularity(popularity):\n",
    "    plt.bar(range(len(popularity)), list(popularity.values())/sum(popularity.values()), align='center')\n",
    "    plt.xticks(range(len(popularity)), list(popularity.keys()), rotation='vertical')\n",
    "\n",
    "        \n",
    "plot_genre_popularity(genre_popularity(data_genres, 1990))\n",
    "drama = genre_popularity_single(data_genres, \"Drama\")\n",
    "western = genre_popularity_single(data_genres, \"Western\")\n",
    "thriller = genre_popularity_single(data_genres, \"Thriller\")\n",
    "romance = genre_popularity_single(data_genres, \"Romance\")\n",
    "comedy = genre_popularity_single(data_genres, \"Comedy\")\n",
    "\n",
    "\n",
    "linedata = pd.DataFrame({\n",
    "    \"Year\": years,\n",
    "    \"Drama\": drama,\n",
    "    \"Western\": western,\n",
    "    \"Thriller\": thriller,\n",
    "    \"Romance\": romance,\n",
    "    \"Comedy\": comedy\n",
    "})"
   ]
  },
  {
   "cell_type": "code",
   "execution_count": null,
   "metadata": {},
   "outputs": [],
   "source": [
    "plt.figure(figsize=(10,5))\n",
    "sns.lineplot(x=\"Year\", y=\"frequency\", hue=\"variable\", legend=\"full\", data=pd.melt(linedata, [\"Year\"], value_name=\"frequency\"))"
   ]
  },
  {
   "cell_type": "code",
   "execution_count": null,
   "metadata": {},
   "outputs": [],
   "source": [
    "data_ml = data.dropna(subset=['country'])\n",
    "data_ml = data_ml[data_ml.country.str.contains(\"USA\")]\n",
    "data_ml = inflation_adjust(data_ml)\n",
    "data_ml = data_ml[[\"year\",\"duration\",\"budget_adjusted\",\"income_adjusted\",\"genre\"]]#Still need to decide if to use values that are adjusted to inflation\n",
    "data_ml = genre_binary(data_ml).drop([\"genre\"],axis=1)\n",
    "data_ml = pd.get_dummies(data_ml, columns=genres_unique)\n",
    "data_ml"
   ]
  },
  {
   "cell_type": "code",
   "execution_count": null,
   "metadata": {},
   "outputs": [],
   "source": [
    "data_plot = data.drop(data[data.year == \"TV Movie 2019\"].index)\n",
    "data_plot.year = data_plot.year.astype(int)\n",
    "data_plot = data_plot[data_plot.year > 1930]\n",
    "\n",
    "plt.figure(figsize=(5,5))\n",
    "sns.lineplot(data=data_plot, x=\"year\", y=\"duration\")\n",
    "plt.show()\n",
    "\n",
    "plt.figure(figsize=(5,5))\n",
    "sns.lineplot(data=inflation_adjust_budget(data), x=\"year\", y=\"budget_adjusted\")\n",
    "plt.show()\n",
    "\n",
    "plt.figure(figsize=(5,5))\n",
    "sns.lineplot(data=inflation_adjust_income(data), x=\"year\", y=\"income_adjusted\")\n",
    "plt.show()\n",
    "\n",
    "plt.figure(figsize=(5,5))\n",
    "sns.lineplot(data=inflation_adjust(data), x=\"budget_adjusted\", y=\"income_adjusted\")\n",
    "plt.show()\n",
    "\n"
   ]
  },
  {
   "cell_type": "markdown",
   "metadata": {},
   "source": [
    "# Machine Learning"
   ]
  },
  {
   "cell_type": "code",
   "execution_count": null,
   "metadata": {},
   "outputs": [],
   "source": [
    "pd.options.display.float_format = '{:.0f}'.format\n",
    "data_genres = data_genres.drop(columns=['genre'])\n",
    "data_genres = data_genres.dropna(subset=['country'])\n",
    "data_genres = data_genres[data_genres.country.str.contains(\"USA\")]\n",
    "data_genres = data_genres.drop(columns = ['imdb_title_id', 'title', 'original_title', 'date_published', 'country', \n",
    "       'language', 'director', 'writer', 'production_company', 'actors',\n",
    "       'description', 'avg_vote', 'votes', 'usa_gross_income',\n",
    "       'metascore', 'reviews_from_users',\n",
    "       'reviews_from_critics',])\n",
    "data_genres = data_genres.dropna(subset=['worlwide_gross_income'])\n",
    "data_genres = data_genres.dropna(subset=['budget'])\n",
    "data_genres = data_genres[data_genres.budget.str.startswith(\"$\")]\n",
    "data_genres = data_genres[data_genres.worlwide_gross_income.str.startswith(\"$\")]\n",
    "data_genres.worlwide_gross_income = data_genres.worlwide_gross_income.str.slice(2).astype(float)\n",
    "data_genres.budget = data_genres.budget.str.slice(2).astype(int)\n",
    "data_genres.year = data_genres.year.astype(int)"
   ]
  },
  {
   "cell_type": "code",
   "execution_count": null,
   "metadata": {},
   "outputs": [],
   "source": [
    "def income_to_classes(df):\n",
    "    c = 'worlwide_gross_income'\n",
    "    for index, row in df.iterrows():\n",
    "        if int(df.at[index, c]) <= 10000:\n",
    "            df.at[index, c] = 1\n",
    "        elif int(df.at[index, c]) <= 100000:\n",
    "            df.at[index, c] = 2\n",
    "        elif int(df.at[index, c]) <= 1000000:\n",
    "            df.at[index, c] = 3\n",
    "        elif int(df.at[index, c]) <= 10000000:\n",
    "            df.at[index, c] = 4\n",
    "        elif int(df.at[index, c]) <= 100000000:\n",
    "            df.at[index, c] = 5\n",
    "        elif int(df.at[index, c]) <= 1000000000:\n",
    "            df.at[index, c] = 6\n",
    "        else:\n",
    "            df.at[index, c] = 7\n",
    "    return df"
   ]
  },
  {
   "cell_type": "code",
   "execution_count": null,
   "metadata": {},
   "outputs": [],
   "source": [
    "data_genres = income_to_classes(data_genres)\n",
    "data_genres"
   ]
  },
  {
   "cell_type": "code",
   "execution_count": null,
   "metadata": {},
   "outputs": [],
   "source": [
    "#works when income is divided into classes\n",
    "def get_accuracy(actual, predictions):\n",
    "    correct = 0\n",
    "    for i in range(len(actual)):\n",
    "        if actual[i] == round(predictions[i]):\n",
    "            correct += 1\n",
    "    return round(correct*100/len(actual), 2)"
   ]
  },
  {
   "cell_type": "code",
   "execution_count": null,
   "metadata": {},
   "outputs": [],
   "source": [
    "data_genres = data_genres[(data_genres.year >= 1920) & (data_genres.year <= 2020)]\n",
    "data_genres.shape\n",
    "data_genres.worlwide_gross_income.value_counts()"
   ]
  },
  {
   "cell_type": "code",
   "execution_count": null,
   "metadata": {},
   "outputs": [],
   "source": [
    "pd.options.display.float_format = '{:.5f}'.format\n",
    "\n",
    "from sklearn.linear_model import LinearRegression\n",
    "from sklearn.datasets import make_regression\n",
    "from sklearn.model_selection import train_test_split\n",
    "from sklearn.svm import SVR\n",
    "from sklearn.linear_model import Lasso\n",
    "from sklearn.neighbors import KNeighborsRegressor\n",
    "from sklearn.linear_model import Ridge\n",
    "from sklearn.linear_model import LogisticRegression\n",
    "#tested also with non-regressive models\n",
    "from sklearn.ensemble import RandomForestClassifier\n",
    "from sklearn.tree import DecisionTreeClassifier\n",
    "from sklearn.neighbors import KNeighborsClassifier as KNN\n",
    "\n",
    "features = data_genres.drop(columns = ['worlwide_gross_income'])\n",
    "labels = data_genres.worlwide_gross_income\n",
    "\n",
    "X_train, X_test, y_train, y_test = train_test_split(features, labels, test_size=0.2, random_state=2)\n",
    "\n",
    "models = []\n",
    "models.append(LinearRegression().fit(X_train, y_train))\n",
    "models.append(Lasso().fit(X_train, y_train))\n",
    "models.append(KNeighborsRegressor(11).fit(X_train, y_train))\n",
    "models.append(LogisticRegression().fit(X_train, y_train))\n",
    "models.append(RandomForestClassifier(criterion = 'gini', max_depth = 11, n_estimators = 100).fit(X_train, y_train))\n",
    "models.append(DecisionTreeClassifier(max_depth=7).fit(X_train, y_train))\n",
    "models.append(KNN(15).fit(X_train, y_train))\n",
    "\n",
    "y_test_arr = np.array(y_test)\n",
    "\n",
    "results_df = pd.DataFrame(columns = ['model', 'accuracy'])\n",
    "\n",
    "for model in models:\n",
    "    results_df = results_df.append({'model': str(model), \n",
    "                                    'accuracy': get_accuracy(y_test_arr, model.predict(X_test))}, \n",
    "                                    ignore_index=True)\n",
    "\n",
    "results_df"
   ]
  },
  {
   "cell_type": "code",
   "execution_count": null,
   "metadata": {},
   "outputs": [],
   "source": [
    "# Idea from: https://www.alt17.com/en/how-to-train-a-machine-learning-model-in-python-and-save-it-for-later-use/\n",
    "\n",
    "import pickle\n",
    "\n",
    "#training the model with highest accuracy on entire data\n",
    "model = models[4]\n",
    "model.fit(features, labels)\n",
    "\n",
    "with open(\"income_predictor.pickle\", \"wb\") as file:\n",
    "    pickle.dump(model, file)"
   ]
  }
 ],
 "metadata": {
  "kernelspec": {
   "display_name": "Python 3",
   "language": "python",
   "name": "python3"
  },
  "language_info": {
   "codemirror_mode": {
    "name": "ipython",
    "version": 3
   },
   "file_extension": ".py",
   "mimetype": "text/x-python",
   "name": "python",
   "nbconvert_exporter": "python",
   "pygments_lexer": "ipython3",
   "version": "3.8.3"
  }
 },
 "nbformat": 4,
 "nbformat_minor": 4
}
